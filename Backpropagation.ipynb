{
  "nbformat": 4,
  "nbformat_minor": 0,
  "metadata": {
    "colab": {
      "name": "Backpropagation.ipynb",
      "provenance": []
    },
    "kernelspec": {
      "name": "python3",
      "display_name": "Python 3"
    },
    "language_info": {
      "name": "python"
    }
  },
  "cells": [
    {
      "cell_type": "code",
      "metadata": {
        "id": "_B5uAi5h7_MW"
      },
      "source": [
        "import numpy as np"
      ],
      "execution_count": null,
      "outputs": []
    },
    {
      "cell_type": "code",
      "metadata": {
        "id": "zZzUa41Ba4jM"
      },
      "source": [
        "dataset = np.array([[2.7810836,2.550537003,0],\n",
        "\t[1.465489372,2.362125076,0],\n",
        "\t[3.396561688,4.400293529,0],\n",
        "\t[1.38807019,1.850220317,0],\n",
        "\t[3.06407232,3.005305973,0],\n",
        "\t[7.627531214,2.759262235,1],\n",
        "\t[5.332441248,2.088626775,1],\n",
        "\t[6.922596716,1.77106367,1],\n",
        "\t[8.675418651,-0.242068655,1],\n",
        "\t[7.673756466,3.508563011,1]])"
      ],
      "execution_count": null,
      "outputs": []
    },
    {
      "cell_type": "code",
      "metadata": {
        "id": "w8dOpimPl2Sw"
      },
      "source": [
        "def initialize_net(input_size, hidden_size, output_size):\n",
        "  w1 = np.round(np.random.randn(input_size, hidden_size),5)\n",
        "  w2 = np.round(np.random.randn(hidden_size, output_size),5)\n",
        "  return w1,w2"
      ],
      "execution_count": null,
      "outputs": []
    },
    {
      "cell_type": "code",
      "metadata": {
        "id": "XfU7OJoQqr_b"
      },
      "source": [
        "def forward(x,w1,w2):\n",
        "  z = np.dot(x, w1)  \n",
        "  z2 = sigmoid(z[:])\n",
        "  z3 = np.dot(z2,w2)  \n",
        "  output = sigmoid(z3)\n",
        "  return z, z2, z3, output"
      ],
      "execution_count": null,
      "outputs": []
    },
    {
      "cell_type": "code",
      "metadata": {
        "id": "rrGxsiEZ1Ufv"
      },
      "source": [
        "def sigmoid(s):\n",
        "  # activation function\n",
        "  return 1 / (1 + np.exp(-s))\n",
        "\n",
        "def sigmoidPrime(s):\n",
        "  # derivative of sigmoid\n",
        "  return s * (1 - s)"
      ],
      "execution_count": null,
      "outputs": []
    },
    {
      "cell_type": "code",
      "metadata": {
        "id": "9hIBHE6x0yWN"
      },
      "source": [
        "def relu(a):\n",
        "    return np.maximum(0,a)\n",
        "\n",
        "def relu_backward(dA, a):\n",
        "    dZ = np.array(dA, copy = True)\n",
        "    dZ[a <= 0] = 0;\n",
        "    return dZ;"
      ],
      "execution_count": null,
      "outputs": []
    },
    {
      "cell_type": "code",
      "metadata": {
        "id": "zJkRy09335Zx"
      },
      "source": [
        "def backward(x, label, output,w1,w2,z2):\n",
        "    # backward propgate through the network\n",
        "    out_error = label - output # error in output\n",
        "    out_delta = out_error * sigmoidPrime(output)  # applying derivative of sigmoid to error\n",
        "    z2_error = np.dot(w2,out_delta.T)\n",
        "    z2_delta = z2_error * sigmoidPrime(z2)  # applying derivative of sigmoid to z2 error\n",
        "\n",
        "    # adjusting first set (input --> hidden) weights\n",
        "    w1 += 0.1*(np.dot(z2_delta,x))\n",
        "    # adjusting second set (hidden --> output) weights\n",
        "    new_z2 = np.zeros((3,1))\n",
        "    new_z2[0,0] = z2[0]\n",
        "    new_z2[1,0] = z2[1]\n",
        "    new_z2[2,0] = z2[2]\n",
        "    w2 += 0.1*(np.dot(new_z2, out_delta))\n",
        "    return w1,w2,out_error"
      ],
      "execution_count": null,
      "outputs": []
    },
    {
      "cell_type": "code",
      "metadata": {
        "id": "mU8OM7cC4rqM"
      },
      "source": [
        "def train(train_data, epoch):\n",
        "  features = train_data[:, :-1]\n",
        "  labels = train_data[:, -1]\n",
        "  w1,w2 = initialize_net(3,3,2)\n",
        "  counter = 0\n",
        "  # number of iteration \n",
        "  for iteration in range(epoch):\n",
        "    counter +=1\n",
        "    for x, label in zip(features, labels):\n",
        "      # put a 1 at the begining of each line for bias in w\n",
        "      x = np.insert(x, 0, 1)\n",
        "      z, z2, z3, output = forward(x,w1,w2)\n",
        "      expected = np.zeros((1,2))\n",
        "     # print(expected)\n",
        "      if label == 1:\n",
        "        expected[0,1] = 1\n",
        "      else:\n",
        "        expected[0,0] = 1\n",
        "      #print(expected)\n",
        "      w1,w2,error= backward(x, expected,output, w1, w2, z2)\n",
        "      #print('error=',error)\n",
        "  return w1,w2,counter\n",
        "#train(dataset,10)"
      ],
      "execution_count": null,
      "outputs": []
    },
    {
      "cell_type": "code",
      "metadata": {
        "colab": {
          "base_uri": "https://localhost:8080/"
        },
        "id": "uS-wX4Gh20S4",
        "outputId": "78714376-4501-4967-d798-39b482147976"
      },
      "source": [
        "def predict(dataset):\n",
        "  correctPredictions = 0\n",
        "  features = dataset[:, :-1]\n",
        "  labels = dataset[:, -1]\n",
        "  w1,w2, counter= train(dataset,1000)\n",
        "  for x, label in zip(features, labels):\n",
        "    # put a 1 at the begining of each line for bias in w\n",
        "    x = np.insert(x, 0, 1)\n",
        "    z, z2, z3, output = forward(x,w1,w2)\n",
        "    #print(output)\n",
        "    if np.argmax(output) == label:\n",
        "      correctPredictions += 1\n",
        "  #print(w1,'\\n',w2)\n",
        "  accuracy = float(correctPredictions) / float(len(dataset))\n",
        "  print('The Backpropagation algorithm classification accuracy is',accuracy*100,'% under',counter,'iterations of training')\n",
        "  return accuracy\n",
        "a = predict(dataset)"
      ],
      "execution_count": null,
      "outputs": [
        {
          "output_type": "stream",
          "text": [
            "The Backpropagation algorithm classification accuracy is 100.0 % under 1000 iterations of training\n"
          ],
          "name": "stdout"
        }
      ]
    }
  ]
}